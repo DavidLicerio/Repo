{
  "nbformat": 4,
  "nbformat_minor": 0,
  "metadata": {
    "kernelspec": {
      "display_name": "Python 3",
      "language": "python",
      "name": "python3"
    },
    "language_info": {
      "codemirror_mode": {
        "name": "ipython",
        "version": 3
      },
      "file_extension": ".py",
      "mimetype": "text/x-python",
      "name": "python",
      "nbconvert_exporter": "python",
      "pygments_lexer": "ipython3",
      "version": "3.8.5"
    },
    "colab": {
      "name": "Project 3 David Licerio.ipynb",
      "provenance": []
    }
  },
  "cells": [
    {
      "cell_type": "code",
      "metadata": {
        "colab": {
          "resources": {
            "http://localhost:8080/nbextensions/google.colab/files.js": {
              "data": "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",
              "ok": true,
              "headers": [
                [
                  "content-type",
                  "application/javascript"
                ]
              ],
              "status": 200,
              "status_text": ""
            }
          },
          "base_uri": "https://localhost:8080/",
          "height": 180
        },
        "id": "5VgfboYjpfOz",
        "outputId": "5bedc587-a832-4655-a3f1-1d25aea6b38b"
      },
      "source": [
        "from textblob import TextBlob\n",
        "import nltk\n",
        "nltk.download('punkt')\n",
        "nltk.download('brown')\n",
        "nltk.download('stopwords')\n",
        "from nltk.corpus import  stopwords\n",
        "from nltk.tokenize import word_tokenize \n",
        "\n",
        "\n",
        "from google.colab import files \n",
        "  \n",
        "  \n",
        "uploaded = files.upload()\n",
        "\n",
        "\n"
      ],
      "execution_count": null,
      "outputs": [
        {
          "output_type": "stream",
          "text": [
            "[nltk_data] Downloading package punkt to /root/nltk_data...\n",
            "[nltk_data]   Unzipping tokenizers/punkt.zip.\n",
            "[nltk_data] Downloading package brown to /root/nltk_data...\n",
            "[nltk_data]   Unzipping corpora/brown.zip.\n",
            "[nltk_data] Downloading package stopwords to /root/nltk_data...\n",
            "[nltk_data]   Unzipping corpora/stopwords.zip.\n"
          ],
          "name": "stdout"
        },
        {
          "output_type": "display_data",
          "data": {
            "text/html": [
              "\n",
              "     <input type=\"file\" id=\"files-87fc9c17-c8d0-49cb-87f5-a5eda35fe845\" name=\"files[]\" multiple disabled\n",
              "        style=\"border:none\" />\n",
              "     <output id=\"result-87fc9c17-c8d0-49cb-87f5-a5eda35fe845\">\n",
              "      Upload widget is only available when the cell has been executed in the\n",
              "      current browser session. Please rerun this cell to enable.\n",
              "      </output>\n",
              "      <script src=\"/nbextensions/google.colab/files.js\"></script> "
            ],
            "text/plain": [
              "<IPython.core.display.HTML object>"
            ]
          },
          "metadata": {
            "tags": []
          }
        },
        {
          "output_type": "stream",
          "text": [
            "Saving RomeoJuliet.txt to RomeoJuliet.txt\n"
          ],
          "name": "stdout"
        }
      ]
    },
    {
      "cell_type": "markdown",
      "metadata": {
        "id": "o-x4_8u9pfO2"
      },
      "source": [
        "##  Analysis of Words\n"
      ]
    },
    {
      "cell_type": "markdown",
      "metadata": {
        "id": "k6aUbF4mpfO4"
      },
      "source": [
        "### 1. Count and display the words in the first 1,000 characters of the text. Display all the words by printing 10 words per line. "
      ]
    },
    {
      "cell_type": "code",
      "metadata": {
        "id": "aAPfiE_fpfO5"
      },
      "source": [
        "# Read the Romeo & Juliet text.\n",
        "# Retrieve only the first 1,000 characters from the text\n",
        "#\n",
        "textTotal = open('RomeoJuliet.txt').read()\n",
        "blobTotal = TextBlob(textTotal)\n",
        "######################################\n",
        "numChars = 1000\n",
        "text1000 = textTotal[0:numChars]\n",
        "blob1000 = TextBlob(text1000) "
      ],
      "execution_count": null,
      "outputs": []
    },
    {
      "cell_type": "code",
      "metadata": {
        "colab": {
          "base_uri": "https://localhost:8080/"
        },
        "id": "b6XL2TdBpfO7",
        "outputId": "b8075672-3676-4ae8-8fca-71ca58d55515"
      },
      "source": [
        "# Function to print 10 words per line\n",
        "print('Word count =',len(blob1000))\n",
        "for i in range(0, len(blob1000.words), 10):\n",
        "    print(blob1000.words[i:i + 10])"
      ],
      "execution_count": null,
      "outputs": [
        {
          "output_type": "stream",
          "text": [
            "Word count = 1000\n",
            "['Project', 'Gutenberg', '’', 's', 'Romeo', 'and', 'Juliet', 'by', 'William', 'Shakespeare']\n",
            "['This', 'eBook', 'is', 'for', 'the', 'use', 'of', 'anyone', 'anywhere', 'in']\n",
            "['the', 'United', 'States', 'and', 'most', 'other', 'parts', 'of', 'the', 'world']\n",
            "['at', 'no', 'cost', 'and', 'with', 'almost', 'no', 'restrictions', 'whatsoever', 'You']\n",
            "['may', 'copy', 'it', 'give', 'it', 'away', 'or', 're-use', 'it', 'under']\n",
            "['the', 'terms', 'of', 'the', 'Project', 'Gutenberg', 'License', 'included', 'with', 'this']\n",
            "['eBook', 'or', 'online', 'at', 'www.gutenberg.org', 'If', 'you', 'are', 'not', 'located']\n",
            "['in', 'the', 'United', 'States', 'you', '’', 'll', 'have', 'to', 'check']\n",
            "['the', 'laws', 'of', 'the', 'country', 'where', 'you', 'are', 'located', 'before']\n",
            "['using', 'this', 'ebook', 'Title', 'Romeo', 'and', 'Juliet', 'Author', 'William', 'Shakespeare']\n",
            "['Release', 'Date', 'November', '1998', 'Etext', '1513', 'Last', 'Updated', 'January', '30']\n",
            "['2019', 'Language', 'English', 'Character', 'set', 'encoding', 'UTF-8', 'START', 'OF', 'THIS']\n",
            "['PROJECT', 'GUTENBERG', 'EBOOK', 'ROMEO', 'AND', 'JULIET', 'This', 'etext', 'was', 'produced']\n",
            "['by', 'the', 'PG', 'Shakespeare', 'Team', 'a', 'team', 'of', 'about', 'twenty']\n",
            "['Project', 'Gutenberg', 'volunteers', 'THE', 'TRAGEDY', 'OF', 'ROMEO', 'AND', 'JULIET', 'by']\n",
            "['William', 'Shakespeare', 'Contents', 'THE', 'PROLOGUE', 'ACT', 'I', 'Scene', 'I', 'A']\n",
            "['public', 'place', 'Scene', 'II', 'A', 'Street', 'S']\n"
          ],
          "name": "stdout"
        }
      ]
    },
    {
      "cell_type": "markdown",
      "metadata": {
        "id": "DUhnQ4jFpfO8"
      },
      "source": [
        "### 2. Count the words in the entire text. \n",
        "\n"
      ]
    },
    {
      "cell_type": "code",
      "metadata": {
        "colab": {
          "base_uri": "https://localhost:8080/"
        },
        "id": "nzZgKMjOpfO9",
        "outputId": "9a5ae910-bf9a-4804-b628-6e399fc4a248"
      },
      "source": [
        "print('Count of words=', len(blobTotal.words))"
      ],
      "execution_count": null,
      "outputs": [
        {
          "output_type": "stream",
          "text": [
            "Count of words= 30796\n"
          ],
          "name": "stdout"
        }
      ]
    },
    {
      "cell_type": "markdown",
      "metadata": {
        "id": "ZtSMYWBupfO9"
      },
      "source": [
        "### 3. Count the unique words in the entire text. "
      ]
    },
    {
      "cell_type": "code",
      "metadata": {
        "colab": {
          "base_uri": "https://localhost:8080/"
        },
        "id": "V2GK_ViTpfO-",
        "outputId": "141a3ab3-b11b-42f1-9a19-192d66b526fc"
      },
      "source": [
        "dict_UniqueWord_Freq = blobTotal.word_counts.items()\n",
        "\n",
        "print('Total number of unique words in text=', len(dict_UniqueWord_Freq))"
      ],
      "execution_count": null,
      "outputs": [
        {
          "output_type": "stream",
          "text": [
            "Total number of unique words in text= 4145\n"
          ],
          "name": "stdout"
        }
      ]
    },
    {
      "cell_type": "markdown",
      "metadata": {
        "id": "-LNcRds_pfO-"
      },
      "source": [
        "### 4. Count the unique words in the entire text after removing the stop-words from the list. "
      ]
    },
    {
      "cell_type": "code",
      "metadata": {
        "id": "h2s6tcCTpfO_"
      },
      "source": [
        "#Removing stop words from text\n",
        "stop_words = stopwords.words('english')\n",
        "\n",
        "word_tokens = word_tokenize(textTotal)  \n",
        "filtered_text = [w for w in word_tokens if not w in stop_words]\n",
        "\n",
        "filtered_text = []\n",
        "\n",
        "for w in word_tokens:\n",
        "    if w not in stop_words:\n",
        "        filtered_text.append(w)\n",
        "\n",
        "\n",
        "        "
      ],
      "execution_count": null,
      "outputs": []
    },
    {
      "cell_type": "code",
      "metadata": {
        "id": "eZ7aR9OVpfPA"
      },
      "source": [
        "split_filtered_text = [word.split() for word in filtered_text]\n"
      ],
      "execution_count": null,
      "outputs": []
    },
    {
      "cell_type": "code",
      "metadata": {
        "id": "jA710e6YpfPA"
      },
      "source": [
        "\n",
        "# Python program to convert a list \n",
        "# to string using list comprehension \n",
        "   \n",
        "\n",
        "  \n",
        "# using list comprehension \n",
        "listToStr = ' '.join(map(str, split_filtered_text)) \n",
        "  \n",
        "\n"
      ],
      "execution_count": null,
      "outputs": []
    },
    {
      "cell_type": "code",
      "metadata": {
        "id": "cIBL3VA7pfPB"
      },
      "source": [
        "\n",
        "filtered_text = TextBlob(listToStr)"
      ],
      "execution_count": null,
      "outputs": []
    },
    {
      "cell_type": "code",
      "metadata": {
        "id": "BPaKP57ipfPB"
      },
      "source": [
        "no_stop_UniqueWord_Freq = filtered_text.word_counts.items()"
      ],
      "execution_count": null,
      "outputs": []
    },
    {
      "cell_type": "code",
      "metadata": {
        "colab": {
          "base_uri": "https://localhost:8080/"
        },
        "id": "wR4dZgI-pfPB",
        "outputId": "4653fee6-0e7a-4195-ed2b-459c4a0f2668"
      },
      "source": [
        "print('Count of Unique words after removing stop words=',len(no_stop_UniqueWord_Freq))"
      ],
      "execution_count": null,
      "outputs": [
        {
          "output_type": "stream",
          "text": [
            "Count of Unique words after removing stop words= 4118\n"
          ],
          "name": "stdout"
        }
      ]
    },
    {
      "cell_type": "markdown",
      "metadata": {
        "id": "60XxiS3hpfPC"
      },
      "source": [
        "\n",
        "### 5. Print the top-10 words in the entire text with highest frequency. Also display words’ frequency."
      ]
    },
    {
      "cell_type": "code",
      "metadata": {
        "id": "vp4NXjGnpfPC"
      },
      "source": [
        "#Most frequently used words\n",
        "from operator import itemgetter\n",
        "sorted_items=sorted(list(dict_UniqueWord_Freq), key=itemgetter(1), reverse=True)\n"
      ],
      "execution_count": null,
      "outputs": []
    },
    {
      "cell_type": "code",
      "metadata": {
        "id": "ezfG0W_ApfPD"
      },
      "source": [
        "TopWordCnt = 10\n",
        "top10words = sorted_items[0:TopWordCnt]"
      ],
      "execution_count": null,
      "outputs": []
    },
    {
      "cell_type": "code",
      "metadata": {
        "colab": {
          "base_uri": "https://localhost:8080/",
          "height": 340
        },
        "id": "ParKQXfnpfPD",
        "outputId": "b0f53f3c-dcae-4455-ba5c-7fea46fb798c"
      },
      "source": [
        "#With stop words\n",
        "import pandas as pd\n",
        "df = pd.DataFrame(top10words, columns=['word','frequency'])\n",
        "df"
      ],
      "execution_count": null,
      "outputs": [
        {
          "output_type": "execute_result",
          "data": {
            "text/html": [
              "<div>\n",
              "<style scoped>\n",
              "    .dataframe tbody tr th:only-of-type {\n",
              "        vertical-align: middle;\n",
              "    }\n",
              "\n",
              "    .dataframe tbody tr th {\n",
              "        vertical-align: top;\n",
              "    }\n",
              "\n",
              "    .dataframe thead th {\n",
              "        text-align: right;\n",
              "    }\n",
              "</style>\n",
              "<table border=\"1\" class=\"dataframe\">\n",
              "  <thead>\n",
              "    <tr style=\"text-align: right;\">\n",
              "      <th></th>\n",
              "      <th>word</th>\n",
              "      <th>frequency</th>\n",
              "    </tr>\n",
              "  </thead>\n",
              "  <tbody>\n",
              "    <tr>\n",
              "      <th>0</th>\n",
              "      <td>the</td>\n",
              "      <td>876</td>\n",
              "    </tr>\n",
              "    <tr>\n",
              "      <th>1</th>\n",
              "      <td>’</td>\n",
              "      <td>869</td>\n",
              "    </tr>\n",
              "    <tr>\n",
              "      <th>2</th>\n",
              "      <td>and</td>\n",
              "      <td>808</td>\n",
              "    </tr>\n",
              "    <tr>\n",
              "      <th>3</th>\n",
              "      <td>i</td>\n",
              "      <td>655</td>\n",
              "    </tr>\n",
              "    <tr>\n",
              "      <th>4</th>\n",
              "      <td>to</td>\n",
              "      <td>626</td>\n",
              "    </tr>\n",
              "    <tr>\n",
              "      <th>5</th>\n",
              "      <td>a</td>\n",
              "      <td>542</td>\n",
              "    </tr>\n",
              "    <tr>\n",
              "      <th>6</th>\n",
              "      <td>of</td>\n",
              "      <td>519</td>\n",
              "    </tr>\n",
              "    <tr>\n",
              "      <th>7</th>\n",
              "      <td>in</td>\n",
              "      <td>395</td>\n",
              "    </tr>\n",
              "    <tr>\n",
              "      <th>8</th>\n",
              "      <td>is</td>\n",
              "      <td>372</td>\n",
              "    </tr>\n",
              "    <tr>\n",
              "      <th>9</th>\n",
              "      <td>that</td>\n",
              "      <td>369</td>\n",
              "    </tr>\n",
              "  </tbody>\n",
              "</table>\n",
              "</div>"
            ],
            "text/plain": [
              "   word  frequency\n",
              "0   the        876\n",
              "1     ’        869\n",
              "2   and        808\n",
              "3     i        655\n",
              "4    to        626\n",
              "5     a        542\n",
              "6    of        519\n",
              "7    in        395\n",
              "8    is        372\n",
              "9  that        369"
            ]
          },
          "metadata": {
            "tags": []
          },
          "execution_count": 17
        }
      ]
    },
    {
      "cell_type": "markdown",
      "metadata": {
        "id": "wj8Px1bFpfPD"
      },
      "source": [
        "### 6. Print the top-10 words in the entire text with highest frequency after removing the stop-words from the list. Also display words’ frequency.\n"
      ]
    },
    {
      "cell_type": "code",
      "metadata": {
        "colab": {
          "base_uri": "https://localhost:8080/",
          "height": 340
        },
        "id": "GvY6SORxpfPE",
        "outputId": "ca448709-68ca-47f8-f121-ac9fac0763af"
      },
      "source": [
        "#Stop Words Removed\n",
        "#Most frequently used words\n",
        "from operator import itemgetter\n",
        "sorted_items=sorted(list(no_stop_UniqueWord_Freq), key=itemgetter(1), reverse=True)\n",
        "\n",
        "TopWordCnt_no_stop = 10\n",
        "top10words_no_stop = sorted_items[0:TopWordCnt]\n",
        "\n",
        "import pandas as pd\n",
        "df2 = pd.DataFrame(top10words_no_stop, columns=['word','frequency'])\n",
        "df2"
      ],
      "execution_count": null,
      "outputs": [
        {
          "output_type": "execute_result",
          "data": {
            "text/html": [
              "<div>\n",
              "<style scoped>\n",
              "    .dataframe tbody tr th:only-of-type {\n",
              "        vertical-align: middle;\n",
              "    }\n",
              "\n",
              "    .dataframe tbody tr th {\n",
              "        vertical-align: top;\n",
              "    }\n",
              "\n",
              "    .dataframe thead th {\n",
              "        text-align: right;\n",
              "    }\n",
              "</style>\n",
              "<table border=\"1\" class=\"dataframe\">\n",
              "  <thead>\n",
              "    <tr style=\"text-align: right;\">\n",
              "      <th></th>\n",
              "      <th>word</th>\n",
              "      <th>frequency</th>\n",
              "    </tr>\n",
              "  </thead>\n",
              "  <tbody>\n",
              "    <tr>\n",
              "      <th>0</th>\n",
              "      <td>’</td>\n",
              "      <td>869</td>\n",
              "    </tr>\n",
              "    <tr>\n",
              "      <th>1</th>\n",
              "      <td>i</td>\n",
              "      <td>652</td>\n",
              "    </tr>\n",
              "    <tr>\n",
              "      <th>2</th>\n",
              "      <td>romeo</td>\n",
              "      <td>320</td>\n",
              "    </tr>\n",
              "    <tr>\n",
              "      <th>3</th>\n",
              "      <td>thou</td>\n",
              "      <td>278</td>\n",
              "    </tr>\n",
              "    <tr>\n",
              "      <th>4</th>\n",
              "      <td>and</td>\n",
              "      <td>254</td>\n",
              "    </tr>\n",
              "    <tr>\n",
              "      <th>5</th>\n",
              "      <td>juliet</td>\n",
              "      <td>195</td>\n",
              "    </tr>\n",
              "    <tr>\n",
              "      <th>6</th>\n",
              "      <td>thy</td>\n",
              "      <td>170</td>\n",
              "    </tr>\n",
              "    <tr>\n",
              "      <th>7</th>\n",
              "      <td>capulet</td>\n",
              "      <td>163</td>\n",
              "    </tr>\n",
              "    <tr>\n",
              "      <th>8</th>\n",
              "      <td>o</td>\n",
              "      <td>153</td>\n",
              "    </tr>\n",
              "    <tr>\n",
              "      <th>9</th>\n",
              "      <td>nurse</td>\n",
              "      <td>149</td>\n",
              "    </tr>\n",
              "  </tbody>\n",
              "</table>\n",
              "</div>"
            ],
            "text/plain": [
              "      word  frequency\n",
              "0        ’        869\n",
              "1        i        652\n",
              "2    romeo        320\n",
              "3     thou        278\n",
              "4      and        254\n",
              "5   juliet        195\n",
              "6      thy        170\n",
              "7  capulet        163\n",
              "8        o        153\n",
              "9    nurse        149"
            ]
          },
          "metadata": {
            "tags": []
          },
          "execution_count": 18
        }
      ]
    },
    {
      "cell_type": "markdown",
      "metadata": {
        "id": "Cf9_1EbhpfPF"
      },
      "source": [
        "### 7. Count and display the noun-phrases in the first 1,000 characters of the text. Display all the noun-phrases by printing 3 noun-phrases per line. "
      ]
    },
    {
      "cell_type": "code",
      "metadata": {
        "colab": {
          "base_uri": "https://localhost:8080/"
        },
        "id": "OtirSS8VpfPF",
        "outputId": "002b5810-cf7d-44c3-9548-aee350939436"
      },
      "source": [
        "\n",
        "print('Total Noun Phrases in first 1000 characters =', len(blob1000.noun_phrases))\n",
        "print()\n",
        "for i in range(0, len(blob1000.noun_phrases), 3):\n",
        "    print(blob1000.noun_phrases[i:i + 3])"
      ],
      "execution_count": null,
      "outputs": [
        {
          "output_type": "stream",
          "text": [
            "Total Noun Phrases in first 1000 characters = 29\n",
            "\n",
            "['project gutenberg', '’ s', 'romeo']\n",
            "['juliet', 'william shakespeare', 'restrictions whatsoever']\n",
            "['project gutenberg license', '’ ll', 'title']\n",
            "['romeo', 'juliet author', 'william shakespeare release date']\n",
            "['november', 'etext', 'updated']\n",
            "['january', 'language', 'english character']\n",
            "['utf-8', 'start of this project gutenberg ebook romeo and juliet', 'pg shakespeare team']\n",
            "['project gutenberg', 'the tragedy of romeo and juliet', 'william shakespeare contents the prologue']\n",
            "['act', 'scene', 'public place']\n",
            "['scene ii', 'sc']\n"
          ],
          "name": "stdout"
        }
      ]
    },
    {
      "cell_type": "markdown",
      "metadata": {
        "id": "ECgXBEXSpfPF"
      },
      "source": [
        "### 8. Count the noun-phrases in the entire text. "
      ]
    },
    {
      "cell_type": "code",
      "metadata": {
        "colab": {
          "base_uri": "https://localhost:8080/"
        },
        "id": "vu0ArUV_pfPG",
        "outputId": "f7672a05-a722-4eda-966d-3a0612438e94"
      },
      "source": [
        "print('Total Noun Phrases =', len(blobTotal.noun_phrases))\n",
        "print()\n",
        "print('Unique Noun Phrases=', len(blobTotal.np_counts))"
      ],
      "execution_count": null,
      "outputs": [
        {
          "output_type": "stream",
          "text": [
            "Total Noun Phrases = 5036\n",
            "\n",
            "Unique Noun Phrases= 2305\n"
          ],
          "name": "stdout"
        }
      ]
    },
    {
      "cell_type": "markdown",
      "metadata": {
        "id": "RM8P6HtNpfPG"
      },
      "source": [
        "### 9. Print the top-10 noun-phrases in the entire text with highest frequency. Also display noun-phrases’ frequency.\n"
      ]
    },
    {
      "cell_type": "code",
      "metadata": {
        "colab": {
          "base_uri": "https://localhost:8080/"
        },
        "id": "W5lOMDe_pfPH",
        "outputId": "c3ef58e7-fb58-45b2-c9cc-d18e48606e5e"
      },
      "source": [
        "#TextBlob Dictionary\n",
        "dictionary = blobTotal.np_counts\n",
        "print(type(dictionary))\n",
        "\n",
        "#Standard Python Dictionary\n",
        "dictionaryPython = dict(dictionary)\n",
        "print(type(dictionaryPython))\n",
        "\n",
        "rankedList = sorted(dictionary, key = dictionary.get, reverse=True)\n",
        "\n"
      ],
      "execution_count": null,
      "outputs": [
        {
          "output_type": "stream",
          "text": [
            "<class 'collections.defaultdict'>\n",
            "<class 'dict'>\n"
          ],
          "name": "stdout"
        }
      ]
    },
    {
      "cell_type": "code",
      "metadata": {
        "colab": {
          "base_uri": "https://localhost:8080/"
        },
        "id": "cJ5cCYDApfPH",
        "outputId": "23f60756-48af-431e-8664-f9794d74e65f"
      },
      "source": [
        "for i in range(0,10):\n",
        "    key=rankedList[i]\n",
        "    value = dictionary[key]\n",
        "    print(key+' repeats '+str(value)+' times ')"
      ],
      "execution_count": null,
      "outputs": [
        {
          "output_type": "stream",
          "text": [
            "romeo repeats 297 times \n",
            "juliet repeats 177 times \n",
            "nurse repeats 132 times \n",
            "capulet repeats 106 times \n",
            "’ s repeats 98 times \n",
            "mercutio repeats 86 times \n",
            "tybalt repeats 75 times \n",
            "benvolio repeats 72 times \n",
            "friar lawrence repeats 69 times \n",
            "’ ll repeats 68 times \n"
          ],
          "name": "stdout"
        }
      ]
    },
    {
      "cell_type": "markdown",
      "metadata": {
        "id": "AXfJe8jNpfPH"
      },
      "source": [
        "### 10. Print the words in the entire text that contain a string “WA”.\n"
      ]
    },
    {
      "cell_type": "code",
      "metadata": {
        "colab": {
          "base_uri": "https://localhost:8080/"
        },
        "id": "wq5ZsEdEpfPI",
        "outputId": "bc8d6e82-71d3-4dbb-c497-bda0f63d2869"
      },
      "source": [
        "import re\n",
        "for word in re.findall(r\"\\w+\", textTotal):\n",
        "    if 'WA' in word:\n",
        "        print(word)"
      ],
      "execution_count": null,
      "outputs": [
        {
          "output_type": "stream",
          "text": [
            "WATCH\n",
            "WATCH\n",
            "WATCH\n",
            "WATCH\n",
            "WATCH\n",
            "WATCH\n",
            "WATCH\n",
            "WATCH\n",
            "WARRANTY\n",
            "WARRANTY\n",
            "WARRANTIES\n",
            "WARRANTIES\n"
          ],
          "name": "stdout"
        }
      ]
    },
    {
      "cell_type": "markdown",
      "metadata": {
        "id": "9uPseN-FpfPI"
      },
      "source": [
        "### 11. Visualize Word Frequencies. Create WordClouds for the entire text. \n"
      ]
    },
    {
      "cell_type": "code",
      "metadata": {
        "colab": {
          "resources": {
            "http://localhost:8080/nbextensions/google.colab/files.js": {
              "data": "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",
              "ok": true,
              "headers": [
                [
                  "content-type",
                  "application/javascript"
                ]
              ],
              "status": 200,
              "status_text": ""
            }
          },
          "base_uri": "https://localhost:8080/",
          "height": 91
        },
        "id": "W11xaMhrrA8h",
        "outputId": "213182d3-44bd-411e-f766-d94777828439"
      },
      "source": [
        "from google.colab import files\r\n",
        "uploaded = files.upload()\r\n",
        "file_name = list(uploaded.keys())[0]\r\n",
        "print('Mask file name='+ str(file_name))"
      ],
      "execution_count": null,
      "outputs": [
        {
          "output_type": "display_data",
          "data": {
            "text/html": [
              "\n",
              "     <input type=\"file\" id=\"files-b0768096-ecb5-410e-bd31-85d748b0d3c5\" name=\"files[]\" multiple disabled\n",
              "        style=\"border:none\" />\n",
              "     <output id=\"result-b0768096-ecb5-410e-bd31-85d748b0d3c5\">\n",
              "      Upload widget is only available when the cell has been executed in the\n",
              "      current browser session. Please rerun this cell to enable.\n",
              "      </output>\n",
              "      <script src=\"/nbextensions/google.colab/files.js\"></script> "
            ],
            "text/plain": [
              "<IPython.core.display.HTML object>"
            ]
          },
          "metadata": {
            "tags": []
          }
        },
        {
          "output_type": "stream",
          "text": [
            "Saving mask_star.png to mask_star.png\n",
            "Mask file name=mask_star.png\n"
          ],
          "name": "stdout"
        }
      ]
    },
    {
      "cell_type": "code",
      "metadata": {
        "id": "h6mLw3bspfPJ"
      },
      "source": [
        "import imageio\n",
        "mask_image = imageio.imread(str(file_name))\n",
        "from wordcloud import WordCloud\n",
        " \n",
        "\n",
        "# Save image in set directory \n",
        "# Read RGB image \n"
      ],
      "execution_count": null,
      "outputs": []
    },
    {
      "cell_type": "code",
      "metadata": {
        "id": "8u3ZbMU1pfPJ"
      },
      "source": [
        "wordcloud = WordCloud(colormap='prism', mask=mask_image, background_color='white')\n",
        "wordcloudimage = wordcloud.generate(textTotal)"
      ],
      "execution_count": null,
      "outputs": []
    },
    {
      "cell_type": "code",
      "metadata": {
        "colab": {
          "base_uri": "https://localhost:8080/"
        },
        "id": "nma4jE2GpfPK",
        "outputId": "756c68e8-bd66-43c2-ff3d-9312599fedd3"
      },
      "source": [
        "print(type(wordcloudimage))\n",
        "wordcloudfile = wordcloudimage.to_file('shakespeare.png')\n",
        "wordcloudimage.to_image"
      ],
      "execution_count": null,
      "outputs": [
        {
          "output_type": "stream",
          "text": [
            "<class 'wordcloud.wordcloud.WordCloud'>\n"
          ],
          "name": "stdout"
        },
        {
          "output_type": "execute_result",
          "data": {
            "text/plain": [
              "<bound method WordCloud.to_image of <wordcloud.wordcloud.WordCloud object at 0x7fda9179c588>>"
            ]
          },
          "metadata": {
            "tags": []
          },
          "execution_count": 27
        }
      ]
    },
    {
      "cell_type": "code",
      "metadata": {
        "colab": {
          "base_uri": "https://localhost:8080/",
          "height": 287
        },
        "id": "80lJy0DjpfPK",
        "outputId": "7cb75252-0585-478e-b464-75d5ed75585e"
      },
      "source": [
        "from PIL import Image\n",
        "import matplotlib.pyplot as plt\n",
        "im = Image.open('shakespeare.png')\n",
        "fig, aux = plt.subplots()\n",
        "aux.imshow(im)"
      ],
      "execution_count": null,
      "outputs": [
        {
          "output_type": "execute_result",
          "data": {
            "text/plain": [
              "<matplotlib.image.AxesImage at 0x7fda917944a8>"
            ]
          },
          "metadata": {
            "tags": []
          },
          "execution_count": 28
        },
        {
          "output_type": "display_data",
          "data": {
            "image/png": "[encoded data removed]",
            "text/plain": [
              "<Figure size 432x288 with 1 Axes>"
            ]
          },
          "metadata": {
            "tags": [],
            "needs_background": "light"
          }
        }
      ]
    },
    {
      "cell_type": "markdown",
      "metadata": {
        "id": "QahMhGH8pfPK"
      },
      "source": [
        "## Analysis of Sentences"
      ]
    },
    {
      "cell_type": "markdown",
      "metadata": {
        "id": "CrXaQIvgpfPL"
      },
      "source": [
        "### 1. Count the total number of sentences in the text.\n"
      ]
    },
    {
      "cell_type": "code",
      "metadata": {
        "colab": {
          "base_uri": "https://localhost:8080/"
        },
        "id": "Hx6XyYuCpfPL",
        "outputId": "ab865640-11e4-4bc7-eda6-2af74e7201d6"
      },
      "source": [
        "#Total Number of Sentences\n",
        "\n",
        "print('Total number of sentences =', len(blobTotal.sentences))"
      ],
      "execution_count": null,
      "outputs": [
        {
          "output_type": "stream",
          "text": [
            "Total number of sentences = 3169\n"
          ],
          "name": "stdout"
        }
      ]
    },
    {
      "cell_type": "markdown",
      "metadata": {
        "id": "TZx3eZwUpfPL"
      },
      "source": [
        "### 2. Count the number of sentences in the text that contain the word ‘Queen’.\n"
      ]
    },
    {
      "cell_type": "code",
      "metadata": {
        "colab": {
          "base_uri": "https://localhost:8080/"
        },
        "id": "80FQx5qvpfPM",
        "outputId": "12de1376-b131-4c31-826f-423e7ae93533"
      },
      "source": [
        "string = 'Queen'\n",
        "count=0\n",
        "for s in blobTotal.sentences:\n",
        "    if string in s:\n",
        "        print(s)\n",
        "        count +=1\n",
        "print('')\n",
        "print('Number of sentences in text that contain Queen:',count)"
      ],
      "execution_count": null,
      "outputs": [
        {
          "output_type": "stream",
          "text": [
            "O, then, I see Queen Mab hath been with you.\n",
            "\n",
            "Number of sentences in text that contain Queen: 1\n"
          ],
          "name": "stdout"
        }
      ]
    },
    {
      "cell_type": "markdown",
      "metadata": {
        "id": "7xSqj8QqpfPM"
      },
      "source": [
        "### 3. Display 10 longest sentences (measured by the number of characters in that sentence) in the text + their length. "
      ]
    },
    {
      "cell_type": "code",
      "metadata": {
        "colab": {
          "base_uri": "https://localhost:8080/",
          "height": 461
        },
        "id": "Bwdv4cnPpfPM",
        "outputId": "48e83777-acfa-46d2-9a78-4b6a62e95940"
      },
      "source": [
        "from datascience import *\n",
        "list_length = []\n",
        "\n",
        "for s in blobTotal.sentences:\n",
        "    list_length.append(len(s))\n",
        "    \n",
        "t1 = Table().with_columns('Sentence', blobTotal.sentences,'Length', list_length)\n",
        "\n",
        "sortedTableLong =t1.sort('Length', descending=True)\n",
        "sortedTableLong.show(10)\n",
        "\n"
      ],
      "execution_count": null,
      "outputs": [
        {
          "output_type": "stream",
          "text": [
            "/usr/local/lib/python3.6/dist-packages/datascience/tables.py:17: MatplotlibDeprecationWarning: The 'warn' parameter of use() is deprecated since Matplotlib 3.1 and will be removed in 3.3.  If any parameter follows 'warn', they should be pass as keyword, not positionally.\n",
            "  matplotlib.use('agg', warn=False)\n",
            "/usr/local/lib/python3.6/dist-packages/datascience/util.py:10: MatplotlibDeprecationWarning: The 'warn' parameter of use() is deprecated since Matplotlib 3.1 and will be removed in 3.3.  If any parameter follows 'warn', they should be pass as keyword, not positionally.\n",
            "  matplotlib.use('agg', warn=False)\n"
          ],
          "name": "stderr"
        },
        {
          "output_type": "display_data",
          "data": {
            "text/html": [
              "<table border=\"1\" class=\"dataframe\">\n",
              "    <thead>\n",
              "        <tr>\n",
              "            <th>Sentence</th> <th>Length</th>\n",
              "        </tr>\n",
              "    </thead>\n",
              "    <tbody>\n",
              "        <tr>\n",
              "            <td>And in this state she gallops night by night\n",
              "Through lov ...</td> <td>857   </td>\n",
              "        </tr>\n",
              "        <tr>\n",
              "            <td>INDEMNITY - You agree to indemnify and hold the Foundati ...</td> <td>683   </td>\n",
              "        </tr>\n",
              "        <tr>\n",
              "            <td>She is the fairies’ midwife, and she comes\n",
              "In shape no b ...</td> <td>649   </td>\n",
              "        </tr>\n",
              "        <tr>\n",
              "            <td>Or, if I live, is it not very like,\n",
              "The horrible conceit ...</td> <td>550   </td>\n",
              "        </tr>\n",
              "        <tr>\n",
              "            <td>The following sentence, with active links to, or other\n",
              "i ...</td> <td>533   </td>\n",
              "        </tr>\n",
              "        <tr>\n",
              "            <td>Day, night, hour, ride, time, work, play,\n",
              "Alone, in comp ...</td> <td>508   </td>\n",
              "        </tr>\n",
              "        <tr>\n",
              "            <td>I do remember an apothecary,—\n",
              "And hereabouts he dwells,— ...</td> <td>493   </td>\n",
              "        </tr>\n",
              "        <tr>\n",
              "            <td>START: FULL LICENSE\n",
              "\n",
              "THE FULL PROJECT GUTENBERG LICENSE\n",
              " ...</td> <td>471   </td>\n",
              "        </tr>\n",
              "        <tr>\n",
              "            <td>However, if you provide access\n",
              "to or distribute copies o ...</td> <td>465   </td>\n",
              "        </tr>\n",
              "        <tr>\n",
              "            <td>[_Exeunt._]\n",
              "\n",
              "\n",
              "End of the Project Gutenberg EBook of Rome ...</td> <td>436   </td>\n",
              "        </tr>\n",
              "    </tbody>\n",
              "</table>\n",
              "<p>... (3159 rows omitted)</p>"
            ],
            "text/plain": [
              "<IPython.core.display.HTML object>"
            ]
          },
          "metadata": {
            "tags": []
          }
        }
      ]
    },
    {
      "cell_type": "markdown",
      "metadata": {
        "id": "Lt1qkpJgpfPN"
      },
      "source": [
        "### 4. Display 10 shortest sentences (measured by the number of characters in that sentence) in the text + their length.\n"
      ]
    },
    {
      "cell_type": "code",
      "metadata": {
        "colab": {
          "base_uri": "https://localhost:8080/",
          "height": 388
        },
        "id": "i7BW5T4qpfPN",
        "outputId": "afd80f89-c49e-431b-e345-bd6882095cc1"
      },
      "source": [
        "sortedTableShort = t1.sort('Length', descending=False)\n",
        "sortedTableShort.show(10)\n"
      ],
      "execution_count": null,
      "outputs": [
        {
          "output_type": "display_data",
          "data": {
            "text/html": [
              "<table border=\"1\" class=\"dataframe\">\n",
              "    <thead>\n",
              "        <tr>\n",
              "            <th>Sentence</th> <th>Length</th>\n",
              "        </tr>\n",
              "    </thead>\n",
              "    <tbody>\n",
              "        <tr>\n",
              "            <td>No.     </td> <td>3     </td>\n",
              "        </tr>\n",
              "        <tr>\n",
              "            <td>Up.     </td> <td>3     </td>\n",
              "        </tr>\n",
              "        <tr>\n",
              "            <td>No.     </td> <td>3     </td>\n",
              "        </tr>\n",
              "        <tr>\n",
              "            <td>Go.     </td> <td>3     </td>\n",
              "        </tr>\n",
              "        <tr>\n",
              "            <td>Ha!     </td> <td>3     </td>\n",
              "        </tr>\n",
              "        <tr>\n",
              "            <td>No.     </td> <td>3     </td>\n",
              "        </tr>\n",
              "        <tr>\n",
              "            <td>How?    </td> <td>4     </td>\n",
              "        </tr>\n",
              "        <tr>\n",
              "            <td>Out.    </td> <td>4     </td>\n",
              "        </tr>\n",
              "        <tr>\n",
              "            <td>Tut!    </td> <td>4     </td>\n",
              "        </tr>\n",
              "        <tr>\n",
              "            <td>1.B.    </td> <td>4     </td>\n",
              "        </tr>\n",
              "    </tbody>\n",
              "</table>\n",
              "<p>... (3159 rows omitted)</p>"
            ],
            "text/plain": [
              "<IPython.core.display.HTML object>"
            ]
          },
          "metadata": {
            "tags": []
          }
        },
        {
          "output_type": "execute_result",
          "data": {
            "text/plain": [
              "3169"
            ]
          },
          "metadata": {
            "tags": []
          },
          "execution_count": 53
        }
      ]
    },
    {
      "cell_type": "markdown",
      "metadata": {
        "id": "bmAa3GLApfPO"
      },
      "source": [
        "## Analysis of Sentiments\n",
        " "
      ]
    },
    {
      "cell_type": "markdown",
      "metadata": {
        "id": "vOdwhiXUpfPO"
      },
      "source": [
        "### 1. Count all sentences with positive, negative and neutral polarity.  Make sure that the sum of all counts is equal to the total number of sentences. "
      ]
    },
    {
      "cell_type": "code",
      "metadata": {
        "colab": {
          "base_uri": "https://localhost:8080/"
        },
        "id": "am2IWaKUpfPP",
        "outputId": "a273e594-5e07-4685-d45e-62f33db48c88"
      },
      "source": [
        "list_Polarity = []\n",
        "\n",
        "for s in blobTotal.sentences:\n",
        "    list_Polarity.append(s.polarity)\n",
        "\n",
        "t_sent = Table().with_columns('Sentence', blobTotal.sentences,'Polarity', list_Polarity)\n",
        "\n",
        "t_sent\n",
        "\n",
        "pos_sentences = t_sent.where(t_sent['Polarity'] > 0) # rows where count > 8\n",
        "neg_sentences = t_sent.where(t_sent['Polarity'] < 0) # rows where count < 8\n",
        "neutral_sentences = t_sent.where(t_sent['Polarity'] == 0) # rows where count = 0\n",
        "print('Number of postive sentences =', len(pos_sentences['Sentence']))\n",
        "print('Number of negative sentences =', len(neg_sentences['Sentence']))\n",
        "print('Number of neutral sentences =', len(neutral_sentences['Sentence']))\n",
        "\n",
        "print('Total sentences = 666+279+2224 =', 666+279+2224)"
      ],
      "execution_count": null,
      "outputs": [
        {
          "output_type": "stream",
          "text": [
            "Number of postive sentences = 666\n",
            "Number of negative sentences = 279\n",
            "Number of neutral sentences = 2224\n",
            "Total sentences = 666+279+2224 = 3169\n"
          ],
          "name": "stdout"
        }
      ]
    },
    {
      "cell_type": "markdown",
      "metadata": {
        "id": "pSzzWZi7pfPP"
      },
      "source": [
        "### 2. Display the top-5 sentences with highest polarity. "
      ]
    },
    {
      "cell_type": "code",
      "metadata": {
        "colab": {
          "base_uri": "https://localhost:8080/",
          "height": 223
        },
        "id": "2MRCcI7xpfPQ",
        "outputId": "39077074-25ee-40fa-9634-e671b9e1c325"
      },
      "source": [
        "sortedTableHighest = t_sent.sort('Polarity', descending=True)\n",
        "sortedTableHighest.show(5)"
      ],
      "execution_count": null,
      "outputs": [
        {
          "output_type": "display_data",
          "data": {
            "text/html": [
              "<table border=\"1\" class=\"dataframe\">\n",
              "    <thead>\n",
              "        <tr>\n",
              "            <th>Sentence</th> <th>Polarity</th>\n",
              "        </tr>\n",
              "    </thead>\n",
              "    <tbody>\n",
              "        <tr>\n",
              "            <td>Ay, those attires are best.                                 </td> <td>1       </td>\n",
              "        </tr>\n",
              "        <tr>\n",
              "            <td>Happily met, my lady and my wife!                           </td> <td>1       </td>\n",
              "        </tr>\n",
              "        <tr>\n",
              "            <td>Beautiful tyrant, fiend angelical,\n",
              "Dove-feather’d raven, ...</td> <td>1       </td>\n",
              "        </tr>\n",
              "        <tr>\n",
              "            <td>O Tybalt, Tybalt, the best friend I had.                    </td> <td>1       </td>\n",
              "        </tr>\n",
              "        <tr>\n",
              "            <td>I thought all for the best.                                 </td> <td>1       </td>\n",
              "        </tr>\n",
              "    </tbody>\n",
              "</table>\n",
              "<p>... (3164 rows omitted)</p>"
            ],
            "text/plain": [
              "<IPython.core.display.HTML object>"
            ]
          },
          "metadata": {
            "tags": []
          }
        }
      ]
    },
    {
      "cell_type": "markdown",
      "metadata": {
        "id": "EgGZ3I__pfPQ"
      },
      "source": [
        "### 3. Display the bottom-5 sentences with lowest polarity. "
      ]
    },
    {
      "cell_type": "code",
      "metadata": {
        "colab": {
          "base_uri": "https://localhost:8080/",
          "height": 223
        },
        "id": "e1XCxx3kpfPQ",
        "outputId": "36c94ac2-24c1-4daa-bbcd-db43c99736a5"
      },
      "source": [
        "sortedTableLowest = t_sent.sort('Polarity')\n",
        "sortedTableLowest.show(5)"
      ],
      "execution_count": null,
      "outputs": [
        {
          "output_type": "display_data",
          "data": {
            "text/html": [
              "<table border=\"1\" class=\"dataframe\">\n",
              "    <thead>\n",
              "        <tr>\n",
              "            <th>Sentence</th> <th>Polarity</th>\n",
              "        </tr>\n",
              "    </thead>\n",
              "    <tbody>\n",
              "        <tr>\n",
              "            <td>Yea, is the worst well?                                     </td> <td>-1      </td>\n",
              "        </tr>\n",
              "        <tr>\n",
              "            <td>There’s a fearful point!                                    </td> <td>-1      </td>\n",
              "        </tr>\n",
              "        <tr>\n",
              "            <td>Romeo, come forth; come forth, thou fearful man.            </td> <td>-0.9    </td>\n",
              "        </tr>\n",
              "        <tr>\n",
              "            <td>Despis’d, distressed, hated, martyr’d, kill’d.              </td> <td>-0.9    </td>\n",
              "        </tr>\n",
              "        <tr>\n",
              "            <td>I could not send it,—here it is again,—\n",
              "Nor get a messen ...</td> <td>-0.9    </td>\n",
              "        </tr>\n",
              "    </tbody>\n",
              "</table>\n",
              "<p>... (3164 rows omitted)</p>"
            ],
            "text/plain": [
              "<IPython.core.display.HTML object>"
            ]
          },
          "metadata": {
            "tags": []
          }
        }
      ]
    },
    {
      "cell_type": "markdown",
      "metadata": {
        "id": "dq8k7iewpfPR"
      },
      "source": [
        "\n",
        "### 4. Select the longest 10 sentences of the text and translate the text to Korean language. "
      ]
    },
    {
      "cell_type": "code",
      "metadata": {
        "colab": {
          "base_uri": "https://localhost:8080/"
        },
        "id": "Enr4_ujGpfPR",
        "outputId": "72cd68e0-44b5-4e58-a184-2ded419fd5b3"
      },
      "source": [
        "long_ten = str(sortedTableLong.take[0:10])\n",
        "\n",
        "long_ten = TextBlob(long_ten)\n",
        "korean_text = long_ten.translate(to='ko')\n",
        "print('Korean Text')\n",
        "print() \n",
        "print(korean_text)"
      ],
      "execution_count": null,
      "outputs": [
        {
          "output_type": "stream",
          "text": [
            "Korean Text\n",
            "\n",
            "문장 | 길이\n",
            "그리고이 주에서 그녀는 밤마다 질주합니다\n",
            "lov를 통해 ... | 857\n",
            "면책-귀하는 Foundati를 면책하고 보유하는 데 동의합니다 ... | 683\n",
            "그녀는 요정의 조산사입니다.\n",
            "모양 없음 b ... | 649\n",
            "아니면 내가 산다면 그다지 좋지 않나요?\n",
            "끔찍한 자만 ... | 550\n",
            "다음 문장, 활성 링크 또는 기타\n",
            "나는 ... | 533\n",
            "낮, 밤, 시간, 타고, 시간, 일, 놀이,\n",
            "혼자, comp에서 ... | 508\n",
            "약사를 기억합니다.\n",
            "그리고 여기에 그가 거주하는, —... | 493\n",
            "시작 : 전체 라이선스\n",
            "\n",
            "전체 프로젝트 GUTENBERG 라이선스\n",
            " ... | 471\n",
            "그러나 액세스를 제공하는 경우\n",
            "또는 복사본 배포 ... | 465\n",
            "[_퇴장._]\n",
            "\n",
            "\n",
            "프로젝트 구텐베르크 EBook 로마의 끝 ... | 436\n"
          ],
          "name": "stdout"
        }
      ]
    },
    {
      "cell_type": "markdown",
      "metadata": {
        "id": "zX5C0WLipfPS"
      },
      "source": [
        "### 5. Generate all nGrams of 5 words (nGrams(n=5)) and print the top-10 ‘nGrams’ where polarity is greater than 0.8.\n"
      ]
    },
    {
      "cell_type": "code",
      "metadata": {
        "colab": {
          "base_uri": "https://localhost:8080/"
        },
        "id": "mKUquxrwpfPT",
        "outputId": "b3dea94f-5c9b-4fd2-bb8f-4091b9859157"
      },
      "source": [
        "countPositivenGrams = 0\n",
        "for l in blobTotal.ngrams(n=5):\n",
        "  lString = str(l)\n",
        "  lBlob = TextBlob(lString)\n",
        "  if lBlob.polarity >0.8:\n",
        "    print(lBlob,lBlob.polarity)\n",
        "    countPositivenGrams +=1\n",
        "    if countPositivenGrams == 10:\n",
        "      break\n",
        "print()\n",
        "print('Total Positive nGrams =', countPositivenGrams)\n",
        "    "
      ],
      "execution_count": null,
      "outputs": [
        {
          "output_type": "stream",
          "text": [
            "['way', 'To', 'call', 'hers', 'exquisite'] 1.0\n",
            "['To', 'call', 'hers', 'exquisite', 'in'] 1.0\n",
            "['call', 'hers', 'exquisite', 'in', 'question'] 1.0\n",
            "['Your', 'plantain', 'leaf', 'is', 'excellent'] 1.0\n",
            "['plantain', 'leaf', 'is', 'excellent', 'for'] 1.0\n",
            "['leaf', 'is', 'excellent', 'for', 'that'] 1.0\n",
            "['is', 'excellent', 'for', 'that', 'BENVOLIO'] 1.0\n",
            "['excellent', 'for', 'that', 'BENVOLIO', 'For'] 1.0\n",
            "['well', 'that', 'now', 'shows', 'best'] 1.0\n",
            "['that', 'now', 'shows', 'best', 'ROMEO'] 1.0\n",
            "\n",
            "Total Positive nGrams = 10\n"
          ],
          "name": "stdout"
        }
      ]
    }
  ]
}